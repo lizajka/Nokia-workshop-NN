{
  "cells": [
    {
      "cell_type": "markdown",
      "metadata": {
        "colab_type": "text",
        "id": "QFqK0khlQaKw"
      },
      "source": [
        "# Autoencoder for MINST\n",
        "\n",
        "In this assignment you will build, train and apply an autoencoder on the MINST dataset.\n",
        "Autoencoders are capable of finding a compressed format for an input/output. \n",
        "If built with just a linear layer, they will essentially perform PCA, but with nonlinear hidden layers, they can perform additional nonlinear transformation, which might lead to a better compression ratio. "
      ]
    },
    {
      "cell_type": "markdown",
      "metadata": {
        "colab_type": "text",
        "id": "URhuwzQHQaKy"
      },
      "source": [
        "### Setup\n",
        "As always, start with importing numpy, matplotlib and tensorflow as you are getting used to"
      ]
    },
    {
      "cell_type": "code",
      "execution_count": 3,
      "metadata": {
        "colab": {},
        "colab_type": "code",
        "id": "k8wXonXzQaK0"
      },
      "outputs": [],
      "source": [
        "import numpy as np\n",
        "import matplotlib.pyplot as plt\n",
        "import tensorflow.keras as K\n",
        "import tensorflow as tf"
      ]
    },
    {
      "cell_type": "markdown",
      "metadata": {
        "colab_type": "text",
        "id": "u4U6rkI0QaLV"
      },
      "source": [
        "### Load training data\n",
        "We use the fashion part of the MNIST dataset, which is openly available. \n",
        "Keras should download it for you automatically"
      ]
    },
    {
      "cell_type": "code",
      "execution_count": 4,
      "metadata": {
        "colab": {},
        "colab_type": "code",
        "id": "mJGcHp-IQaLX"
      },
      "outputs": [],
      "source": [
        "(X_train_full, y_train_full), _ = K.datasets.fashion_mnist.load_data()\n",
        "\n",
        "# Rescale the grayscale images to have values within range 0 to 1\n",
        "X_train_full = X_train_full / 255.0\n",
        "\n",
        "# Split the training data into training and validation sets\n",
        "# Use the last 5000 images as validation set\n",
        "X_train, X_valid = X_train_full[:-5000], X_train_full[-5000:]\n",
        "y_train, y_valid = y_train_full[:-5000], y_train_full[-5000:]"
      ]
    },
    {
      "cell_type": "markdown",
      "metadata": {},
      "source": [
        "A couple utility functions to plot the images:. Not sure why"
      ]
    },
    {
      "cell_type": "code",
      "execution_count": 8,
      "metadata": {},
      "outputs": [],
      "source": [
        "def plot_image(image):\n",
        "    plt.imshow(image, cmap=\"binary\")\n",
        "    plt.axis(\"off\")\n",
        "\n",
        "def show_reconstructions(model, images=X_valid, n_images=5):\n",
        "    reconstructions = model.predict(images[:n_images])\n",
        "    fig = plt.figure(figsize=(n_images * 1.5, 3))\n",
        "    for image_index in range(n_images):\n",
        "        plt.subplot(2, n_images, 1 + image_index)\n",
        "        plot_image(images[image_index])\n",
        "        plt.subplot(2, n_images, 1 + n_images + image_index)\n",
        "        plot_image(reconstructions[image_index])\n",
        "    plt.show()\n",
        "    plt.show()"
      ]
    },
    {
      "cell_type": "markdown",
      "metadata": {
        "colab_type": "text",
        "id": "5ukD7XAlQaLb"
      },
      "source": [
        "### Build & Train the autoencoder"
      ]
    },
    {
      "cell_type": "markdown",
      "metadata": {
        "colab_type": "text",
        "id": "4WH_TgDJQaLc"
      },
      "source": [
        "We now want to build an autoencoder, e.g. two hidden layers in the encoder and respective decoder, that is able to retain B/W pixels.\n",
        "For the sizes of the layers, look at the dimension of your input as a reference. \\\n",
        "Figure out the minimum size of the bottleneck such that the rounded_accuracy metric stays just above 93%.  \n",
        "\n",
        "Check the dimension of your input images. To connect those to your dense layer, you will need to flatten the incoming data inside your model and when reconstructing, to reshape the data to match with the originals.\n",
        "\n",
        "\n",
        "Think about: \n",
        "What will be the input and output of the autoencoder? \\\n",
        "Which loss function is appropriate given the target metric? \\\n",
        "Which activation is appropriate for the output of the decoder?"
      ]
    },
    {
      "cell_type": "code",
      "execution_count": 10,
      "metadata": {},
      "outputs": [],
      "source": [
        "# pass this measure  as **metric** to your compile function. \n",
        "# Metrics are there to help you assess the progress/quality of your training, while not being actively involved in the minimization. \n",
        "# This could for example be a dB metric, instead of a 1.234e-4 MSE loss. \n",
        "def rounded_accuracy(y_true, y_pred):\n",
        "    return K.metrics.binary_accuracy(tf.round(y_true), tf.round(y_pred))\n",
        "\n"
      ]
    },
    {
      "cell_type": "code",
      "execution_count": 12,
      "metadata": {
        "colab": {},
        "colab_type": "code",
        "id": "ZdlbS3JKQaLh"
      },
      "outputs": [
        {
          "name": "stdout",
          "output_type": "stream",
          "text": [
            "Epoch 1/10\n",
            "\u001b[1m1719/1719\u001b[0m \u001b[32m━━━━━━━━━━━━━━━━━━━━\u001b[0m\u001b[37m\u001b[0m \u001b[1m6s\u001b[0m 3ms/step - accuracy: 0.1020 - loss: 0.3314 - val_accuracy: 0.1802 - val_loss: 0.2800\n",
            "Epoch 2/10\n",
            "\u001b[1m1719/1719\u001b[0m \u001b[32m━━━━━━━━━━━━━━━━━━━━\u001b[0m\u001b[37m\u001b[0m \u001b[1m5s\u001b[0m 3ms/step - accuracy: 0.1885 - loss: 0.2762 - val_accuracy: 0.2138 - val_loss: 0.2733\n",
            "Epoch 3/10\n",
            "\u001b[1m1719/1719\u001b[0m \u001b[32m━━━━━━━━━━━━━━━━━━━━\u001b[0m\u001b[37m\u001b[0m \u001b[1m5s\u001b[0m 3ms/step - accuracy: 0.2233 - loss: 0.2695 - val_accuracy: 0.2427 - val_loss: 0.2684\n",
            "Epoch 4/10\n",
            "\u001b[1m1719/1719\u001b[0m \u001b[32m━━━━━━━━━━━━━━━━━━━━\u001b[0m\u001b[37m\u001b[0m \u001b[1m5s\u001b[0m 3ms/step - accuracy: 0.2464 - loss: 0.2666 - val_accuracy: 0.2550 - val_loss: 0.2667\n",
            "Epoch 5/10\n",
            "\u001b[1m1719/1719\u001b[0m \u001b[32m━━━━━━━━━━━━━━━━━━━━\u001b[0m\u001b[37m\u001b[0m \u001b[1m5s\u001b[0m 3ms/step - accuracy: 0.2603 - loss: 0.2639 - val_accuracy: 0.2673 - val_loss: 0.2654\n",
            "Epoch 6/10\n",
            "\u001b[1m1719/1719\u001b[0m \u001b[32m━━━━━━━━━━━━━━━━━━━━\u001b[0m\u001b[37m\u001b[0m \u001b[1m5s\u001b[0m 3ms/step - accuracy: 0.2731 - loss: 0.2633 - val_accuracy: 0.2733 - val_loss: 0.2645\n",
            "Epoch 7/10\n",
            "\u001b[1m1719/1719\u001b[0m \u001b[32m━━━━━━━━━━━━━━━━━━━━\u001b[0m\u001b[37m\u001b[0m \u001b[1m7s\u001b[0m 4ms/step - accuracy: 0.2800 - loss: 0.2624 - val_accuracy: 0.2862 - val_loss: 0.2631\n",
            "Epoch 8/10\n",
            "\u001b[1m1719/1719\u001b[0m \u001b[32m━━━━━━━━━━━━━━━━━━━━\u001b[0m\u001b[37m\u001b[0m \u001b[1m5s\u001b[0m 3ms/step - accuracy: 0.2876 - loss: 0.2610 - val_accuracy: 0.2857 - val_loss: 0.2626\n",
            "Epoch 9/10\n",
            "\u001b[1m1719/1719\u001b[0m \u001b[32m━━━━━━━━━━━━━━━━━━━━\u001b[0m\u001b[37m\u001b[0m \u001b[1m6s\u001b[0m 4ms/step - accuracy: 0.2911 - loss: 0.2608 - val_accuracy: 0.2983 - val_loss: 0.2619\n",
            "Epoch 10/10\n",
            "\u001b[1m1719/1719\u001b[0m \u001b[32m━━━━━━━━━━━━━━━━━━━━\u001b[0m\u001b[37m\u001b[0m \u001b[1m5s\u001b[0m 3ms/step - accuracy: 0.2968 - loss: 0.2595 - val_accuracy: 0.2942 - val_loss: 0.2616\n"
          ]
        }
      ],
      "source": [
        "# Define autoencoder model\n",
        "autoenc_model = tf.keras.models.Sequential([\n",
        "    tf.keras.layers.Flatten(input_shape=[28, 28]),\n",
        "    tf.keras.layers.Dense(300, activation=\"relu\"),\n",
        "    tf.keras.layers.Dense(150, activation=\"relu\"),\n",
        "    tf.keras.layers.Dense(300, activation=\"relu\"),\n",
        "    tf.keras.layers.Dense(28 * 28, activation=\"sigmoid\"),\n",
        "    tf.keras.layers.Reshape([28, 28])\n",
        "])\n",
        "\n",
        "# Compile the autoencoder model\n",
        "autoenc_model.compile(loss=\"binary_crossentropy\", optimizer=\"adam\", metrics=[\"accuracy\"])\n",
        "\n",
        "# Train the autoencoder model\n",
        "hist = autoenc_model.fit(X_train, X_train, epochs=10, validation_data=(X_valid, X_valid))\n"
      ]
    },
    {
      "cell_type": "code",
      "execution_count": 13,
      "metadata": {},
      "outputs": [
        {
          "name": "stdout",
          "output_type": "stream",
          "text": [
            "\u001b[1m1/1\u001b[0m \u001b[32m━━━━━━━━━━━━━━━━━━━━\u001b[0m\u001b[37m\u001b[0m \u001b[1m0s\u001b[0m 38ms/step\n"
          ]
        },
        {
          "data": {
            "image/png": "[encoded data removed]",
            "text/plain": [
              "<Figure size 750x300 with 10 Axes>"
            ]
          },
          "metadata": {},
          "output_type": "display_data"
        }
      ],
      "source": [
        "# visualize the output alongside the original images\n",
        "show_reconstructions(autoenc_model)"
      ]
    },
    {
      "cell_type": "markdown",
      "metadata": {},
      "source": [
        "- Try a linear-only auto encoder for reference. Was there really any benefit from having a NN here?\n",
        "- Evaluate how noise on the input data affects the outcome?\n",
        "- Find a way to tap into the model and extract the codings. Is there anything meaninful still left?\n",
        "- Optional: Try replacing some of the layers with convolutional/pooling layers (in the decoder it would need to be deconvolution). Does it affect the performance/complexity?\n",
        "\n",
        "### AI generated new fashion!\n",
        "Finally, have some fun and use the decoder as a generator for next-gen fashion by feeding it random codings ;) \\\n",
        "While the result here might look quite crappy, this actually is a use case for the trained decoders: generating even more data. "
      ]
    },
    {
      "cell_type": "code",
      "execution_count": null,
      "metadata": {},
      "outputs": [
        {
          "name": "stdout",
          "output_type": "stream",
          "text": [
            "\u001b[1m1719/1719\u001b[0m \u001b[32m━━━━━━━━━━━━━━━━━━━━\u001b[0m\u001b[37m\u001b[0m \u001b[1m6s\u001b[0m 3ms/step - loss: 0.3323 - rounded_accuracy: 0.8891 - val_loss: 0.2790 - val_rounded_accuracy: 0.9406\n"
          ]
        },
        {
          "ename": "ValueError",
          "evalue": "The layer sequential_5 has never been called and thus has no defined input.",
          "output_type": "error",
          "traceback": [
            "\u001b[1;31m---------------------------------------------------------------------------\u001b[0m",
            "\u001b[1;31mValueError\u001b[0m                                Traceback (most recent call last)",
            "Cell \u001b[1;32mIn[17], line 34\u001b[0m\n\u001b[0;32m     31\u001b[0m autoenc_model\u001b[38;5;241m.\u001b[39mfit(X_train, X_train, epochs\u001b[38;5;241m=\u001b[39m\u001b[38;5;241m1\u001b[39m, validation_data\u001b[38;5;241m=\u001b[39m(X_valid, X_valid))\n\u001b[0;32m     33\u001b[0m \u001b[38;5;66;03m# Extract codings\u001b[39;00m\n\u001b[1;32m---> 34\u001b[0m codings_model \u001b[38;5;241m=\u001b[39m models\u001b[38;5;241m.\u001b[39mModel(inputs\u001b[38;5;241m=\u001b[39m\u001b[43mautoenc_model\u001b[49m\u001b[38;5;241;43m.\u001b[39;49m\u001b[43minput\u001b[49m, outputs\u001b[38;5;241m=\u001b[39mautoenc_model\u001b[38;5;241m.\u001b[39mlayers[\u001b[38;5;241m2\u001b[39m]\u001b[38;5;241m.\u001b[39moutput)\n\u001b[0;32m     35\u001b[0m codings_train \u001b[38;5;241m=\u001b[39m codings_model\u001b[38;5;241m.\u001b[39mpredict(X_train)\n\u001b[0;32m     36\u001b[0m codings_valid \u001b[38;5;241m=\u001b[39m codings_model\u001b[38;5;241m.\u001b[39mpredict(X_valid)\n",
            "File \u001b[1;32mc:\\Users\\sdb556\\AppData\\Local\\anaconda3\\envs\\nn_workshop\\Lib\\site-packages\\keras\\src\\ops\\operation.py:216\u001b[0m, in \u001b[0;36mOperation.input\u001b[1;34m(self)\u001b[0m\n\u001b[0;32m    206\u001b[0m \u001b[38;5;129m@property\u001b[39m\n\u001b[0;32m    207\u001b[0m \u001b[38;5;28;01mdef\u001b[39;00m \u001b[38;5;21minput\u001b[39m(\u001b[38;5;28mself\u001b[39m):\n\u001b[0;32m    208\u001b[0m \u001b[38;5;250m    \u001b[39m\u001b[38;5;124;03m\"\"\"Retrieves the input tensor(s) of a symbolic operation.\u001b[39;00m\n\u001b[0;32m    209\u001b[0m \n\u001b[0;32m    210\u001b[0m \u001b[38;5;124;03m    Only returns the tensor(s) corresponding to the *first time*\u001b[39;00m\n\u001b[1;32m   (...)\u001b[0m\n\u001b[0;32m    214\u001b[0m \u001b[38;5;124;03m        Input tensor or list of input tensors.\u001b[39;00m\n\u001b[0;32m    215\u001b[0m \u001b[38;5;124;03m    \"\"\"\u001b[39;00m\n\u001b[1;32m--> 216\u001b[0m     \u001b[38;5;28;01mreturn\u001b[39;00m \u001b[38;5;28;43mself\u001b[39;49m\u001b[38;5;241;43m.\u001b[39;49m\u001b[43m_get_node_attribute_at_index\u001b[49m\u001b[43m(\u001b[49m\u001b[38;5;241;43m0\u001b[39;49m\u001b[43m,\u001b[49m\u001b[43m \u001b[49m\u001b[38;5;124;43m\"\u001b[39;49m\u001b[38;5;124;43minput_tensors\u001b[39;49m\u001b[38;5;124;43m\"\u001b[39;49m\u001b[43m,\u001b[49m\u001b[43m \u001b[49m\u001b[38;5;124;43m\"\u001b[39;49m\u001b[38;5;124;43minput\u001b[39;49m\u001b[38;5;124;43m\"\u001b[39;49m\u001b[43m)\u001b[49m\n",
            "File \u001b[1;32mc:\\Users\\sdb556\\AppData\\Local\\anaconda3\\envs\\nn_workshop\\Lib\\site-packages\\keras\\src\\ops\\operation.py:247\u001b[0m, in \u001b[0;36mOperation._get_node_attribute_at_index\u001b[1;34m(self, node_index, attr, attr_name)\u001b[0m\n\u001b[0;32m    231\u001b[0m \u001b[38;5;250m\u001b[39m\u001b[38;5;124;03m\"\"\"Private utility to retrieves an attribute (e.g. inputs) from a node.\u001b[39;00m\n\u001b[0;32m    232\u001b[0m \n\u001b[0;32m    233\u001b[0m \u001b[38;5;124;03mThis is used to implement the properties:\u001b[39;00m\n\u001b[1;32m   (...)\u001b[0m\n\u001b[0;32m    244\u001b[0m \u001b[38;5;124;03m    The operation's attribute `attr` at the node of index `node_index`.\u001b[39;00m\n\u001b[0;32m    245\u001b[0m \u001b[38;5;124;03m\"\"\"\u001b[39;00m\n\u001b[0;32m    246\u001b[0m \u001b[38;5;28;01mif\u001b[39;00m \u001b[38;5;129;01mnot\u001b[39;00m \u001b[38;5;28mself\u001b[39m\u001b[38;5;241m.\u001b[39m_inbound_nodes:\n\u001b[1;32m--> 247\u001b[0m     \u001b[38;5;28;01mraise\u001b[39;00m \u001b[38;5;167;01mValueError\u001b[39;00m(\n\u001b[0;32m    248\u001b[0m         \u001b[38;5;124mf\u001b[39m\u001b[38;5;124m\"\u001b[39m\u001b[38;5;124mThe layer \u001b[39m\u001b[38;5;132;01m{\u001b[39;00m\u001b[38;5;28mself\u001b[39m\u001b[38;5;241m.\u001b[39mname\u001b[38;5;132;01m}\u001b[39;00m\u001b[38;5;124m has never been called \u001b[39m\u001b[38;5;124m\"\u001b[39m\n\u001b[0;32m    249\u001b[0m         \u001b[38;5;124mf\u001b[39m\u001b[38;5;124m\"\u001b[39m\u001b[38;5;124mand thus has no defined \u001b[39m\u001b[38;5;132;01m{\u001b[39;00mattr_name\u001b[38;5;132;01m}\u001b[39;00m\u001b[38;5;124m.\u001b[39m\u001b[38;5;124m\"\u001b[39m\n\u001b[0;32m    250\u001b[0m     )\n\u001b[0;32m    251\u001b[0m \u001b[38;5;28;01mif\u001b[39;00m \u001b[38;5;129;01mnot\u001b[39;00m \u001b[38;5;28mlen\u001b[39m(\u001b[38;5;28mself\u001b[39m\u001b[38;5;241m.\u001b[39m_inbound_nodes) \u001b[38;5;241m>\u001b[39m node_index:\n\u001b[0;32m    252\u001b[0m     \u001b[38;5;28;01mraise\u001b[39;00m \u001b[38;5;167;01mValueError\u001b[39;00m(\n\u001b[0;32m    253\u001b[0m         \u001b[38;5;124mf\u001b[39m\u001b[38;5;124m\"\u001b[39m\u001b[38;5;124mAsked to get \u001b[39m\u001b[38;5;132;01m{\u001b[39;00mattr_name\u001b[38;5;132;01m}\u001b[39;00m\u001b[38;5;124m at node \u001b[39m\u001b[38;5;124m\"\u001b[39m\n\u001b[0;32m    254\u001b[0m         \u001b[38;5;124mf\u001b[39m\u001b[38;5;124m\"\u001b[39m\u001b[38;5;132;01m{\u001b[39;00mnode_index\u001b[38;5;132;01m}\u001b[39;00m\u001b[38;5;124m, but the operation has only \u001b[39m\u001b[38;5;124m\"\u001b[39m\n\u001b[0;32m    255\u001b[0m         \u001b[38;5;124mf\u001b[39m\u001b[38;5;124m\"\u001b[39m\u001b[38;5;132;01m{\u001b[39;00m\u001b[38;5;28mlen\u001b[39m(\u001b[38;5;28mself\u001b[39m\u001b[38;5;241m.\u001b[39m_inbound_nodes)\u001b[38;5;132;01m}\u001b[39;00m\u001b[38;5;124m inbound nodes.\u001b[39m\u001b[38;5;124m\"\u001b[39m\n\u001b[0;32m    256\u001b[0m     )\n",
            "\u001b[1;31mValueError\u001b[0m: The layer sequential_5 has never been called and thus has no defined input."
          ]
        }
      ],
      "source": [
        "import tensorflow as tf\n",
        "import numpy as np\n",
        "\n",
        "# Load Fashion MNIST dataset\n",
        "(X_train_full, y_train_full), _ = tf.keras.datasets.fashion_mnist.load_data()\n",
        "\n",
        "# Rescale the grayscale images to have values within range 0 to 1\n",
        "X_train_full = X_train_full / 255.0\n",
        "\n",
        "# Split the training data into training and validation sets\n",
        "# Use the last 5000 images as validation set\n",
        "X_train, X_valid = X_train_full[:-5000], X_train_full[-5000:]\n",
        "\n",
        "# Define autoencoder model\n",
        "autoenc_model = tf.keras.models.Sequential([\n",
        "    tf.keras.layers.Flatten(input_shape=[28, 28]),\n",
        "    tf.keras.layers.Dense(300, activation=\"relu\"),\n",
        "    tf.keras.layers.Dense(150, activation=\"relu\", name=\"codings_layer\"),  # Named the layer for easy access\n",
        "    tf.keras.layers.Dense(300, activation=\"relu\"),\n",
        "    tf.keras.layers.Dense(28 * 28, activation=\"sigmoid\"),\n",
        "    tf.keras.layers.Reshape([28, 28])\n",
        "])\n",
        "\n",
        "# Compile the autoencoder model\n",
        "autoenc_model.compile(loss=\"binary_crossentropy\", optimizer=\"adam\", metrics=[\"accuracy\"])\n",
        "\n",
        "# Train the autoencoder model\n",
        "hist = autoenc_model.fit(X_train, X_train, epochs=1, validation_data=(X_valid, X_valid))\n",
        "\n",
        "# Extract codings\n",
        "codings_model = tf.keras.models.Model(inputs=autoenc_model.input, outputs=autoenc_model.get_layer(\"codings_layer\").output)\n",
        "codings_train = codings_model.predict(X_train)\n",
        "codings_valid = codings_model.predict(X_valid)\n",
        "\n",
        "# Generate new fashion items using the decoder part of the trained autoencoder\n",
        "num_images_to_generate = 5\n",
        "random_codings = np.random.normal(size=[num_images_to_generate, 150])  # Generate random codings\n",
        "generated_images = autoenc_model.layers[-3](random_codings)  # Pass random codings through decoder\n",
        "\n",
        "# Plot the generated images\n",
        "import matplotlib.pyplot as plt\n",
        "\n",
        "plt.figure(figsize=(10, 4))\n",
        "for i in range(num_images_to_generate):\n",
        "    plt.subplot(2, num_images_to_generate // 2, i + 1)\n",
        "    plt.imshow(generated_images[i], cmap=\"binary\")\n",
        "    plt.axis(\"off\")\n",
        "plt.show()\n",
        "\n",
        "\n",
        "# Plot the generated images\n",
        "import matplotlib.pyplot as plt\n",
        "\n",
        "plt.figure(figsize=(10, 4))\n",
        "for i in range(num_images_to_generate):\n",
        "    plt.subplot(2, num_images_to_generate // 2, i + 1)\n",
        "    plt.imshow(generated_images[i], cmap=\"binary\")\n",
        "    plt.axis(\"off\")\n",
        "plt.show()"
      ]
    }
  ],
  "metadata": {
    "accelerator": "GPU",
    "colab": {
      "collapsed_sections": [],
      "name": "Simple_autoencoder.ipynb",
      "provenance": []
    },
    "kernelspec": {
      "display_name": "Python 3",
      "name": "python3"
    },
    "language_info": {
      "codemirror_mode": {
        "name": "ipython",
        "version": 3
      },
      "file_extension": ".py",
      "mimetype": "text/x-python",
      "name": "python",
      "nbconvert_exporter": "python",
      "pygments_lexer": "ipython3",
      "version": "3.12.2"
    },
    "nav_menu": {
      "height": "381px",
      "width": "453px"
    },
    "toc": {
      "navigate_menu": true,
      "number_sections": true,
      "sideBar": true,
      "threshold": 6,
      "toc_cell": false,
      "toc_section_display": "block",
      "toc_window_display": false
    }
  },
  "nbformat": 4,
  "nbformat_minor": 0
}
